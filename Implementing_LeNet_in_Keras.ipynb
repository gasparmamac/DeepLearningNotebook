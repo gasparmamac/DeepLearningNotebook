{
  "nbformat": 4,
  "nbformat_minor": 0,
  "metadata": {
    "colab": {
      "provenance": [],
      "authorship_tag": "ABX9TyPINnMMIQhKsxwsibWklx4+",
      "include_colab_link": true
    },
    "kernelspec": {
      "name": "python3",
      "display_name": "Python 3"
    },
    "language_info": {
      "name": "python"
    },
    "accelerator": "GPU",
    "gpuClass": "standard"
  },
  "cells": [
    {
      "cell_type": "markdown",
      "metadata": {
        "id": "view-in-github",
        "colab_type": "text"
      },
      "source": [
        "<a href=\"https://colab.research.google.com/github/gasparmamac/DeepLearningNotebook/blob/main/Implementing_LeNet_in_Keras.ipynb\" target=\"_parent\"><img src=\"https://colab.research.google.com/assets/colab-badge.svg\" alt=\"Open In Colab\"/></a>"
      ]
    },
    {
      "cell_type": "markdown",
      "source": [
        "<h1> Implementing LeNet in Keras"
      ],
      "metadata": {
        "id": "Had-D9oZ6BUl"
      }
    },
    {
      "cell_type": "code",
      "execution_count": 51,
      "metadata": {
        "id": "nnqBGrUI1-CA"
      },
      "outputs": [],
      "source": [
        "import os\n",
        "import random\n",
        "import numpy as np\n",
        "import tensorflow as tf\n",
        "import matplotlib.pyplot as plt\n",
        "from sklearn.model_selection import train_test_split\n",
        "from dataclasses import dataclass\n",
        "\n",
        "block_plot = False\n",
        "\n",
        "# fix seeds for reproducibility\n",
        "SEED_VALUE = 29\n",
        "random.seed(SEED_VALUE)\n",
        "np.random.seed(SEED_VALUE)\n",
        "tf.random.set_seed(SEED_VALUE)"
      ]
    },
    {
      "cell_type": "markdown",
      "source": [
        "<h1>1 System Cofiguratuion"
      ],
      "metadata": {
        "id": "esOExg5i3q52"
      }
    },
    {
      "cell_type": "code",
      "source": [
        "def system_config():\n",
        "\n",
        "  # get list of GPUs\n",
        "  gpu_devices = tf.config.list_physical_devices('GPU')\n",
        "  print(gpu_devices)\n",
        "\n",
        "  if len(gpu_devices) > 0:\n",
        "    print('Using GPU')\n",
        "    os.environ['CUDA_VISIBLE_DEVICES'] = '0'\n",
        "    os.environ['TF_CUDNN_DETERMINISTIC'] = '1'\n",
        "\n",
        "    # if there are any gpu devices, use first gpu\n",
        "    tf.config.experimental.set_memory_growth(gpu_devices[0], True)\n",
        "\n",
        "    # enable using cudNN\n",
        "    os.environ['TF_USE_CUDNN'] = 'true'\n",
        "  \n",
        "  else:\n",
        "    print('Using CPU')\n",
        "\n",
        "system_config()"
      ],
      "metadata": {
        "colab": {
          "base_uri": "https://localhost:8080/"
        },
        "id": "AnDMCTNS3vkR",
        "outputId": "71b49919-5f70-4062-9007-61af5730dce4"
      },
      "execution_count": 52,
      "outputs": [
        {
          "output_type": "stream",
          "name": "stdout",
          "text": [
            "[PhysicalDevice(name='/physical_device:GPU:0', device_type='GPU')]\n",
            "Using GPU\n"
          ]
        }
      ]
    },
    {
      "cell_type": "markdown",
      "source": [
        "<h1>2 Dataset Processing"
      ],
      "metadata": {
        "id": "KEl3bFOx5Q5b"
      }
    },
    {
      "cell_type": "code",
      "source": [
        "def get_data():\n",
        "\n",
        "  mnist_data = tf.keras.datasets.mnist\n",
        "\n",
        "  # load dataset\n",
        "  (train_data, train_label), (test_data, test_label) = mnist_data.load_data()\n",
        "\n",
        "  return (train_data, train_label), (test_data, test_label)"
      ],
      "metadata": {
        "id": "19hpiIUc3vTm"
      },
      "execution_count": 53,
      "outputs": []
    },
    {
      "cell_type": "markdown",
      "source": [
        "2.1 Data Preprocessing Pipeline"
      ],
      "metadata": {
        "id": "3JGufd3b7Gei"
      }
    },
    {
      "cell_type": "code",
      "source": [
        "def preprocess_dataset(train_set, test_set, resize_to=None, num_classes=10, seed=3):\n",
        "\n",
        "  (train_data, train_label) = train_set\n",
        "  (test_data, test_label) = test_set\n",
        "\n",
        "  # split training data into train and validation\n",
        "  train_data, valid_data, train_label, valid_label = train_test_split(\n",
        "      train_data,\n",
        "      train_label,\n",
        "      shuffle=True,\n",
        "      test_size=0.1,\n",
        "      random_state=seed,\n",
        "  )\n",
        "\n",
        "  # add axis to grayscale:\n",
        "  if len(train_data.shape) !=4:\n",
        "    train_data = tf.expand_dims(train_data, axis=3)\n",
        "    valid_data = tf.expand_dims(valid_data, axis=3)\n",
        "    test_data = tf.expand_dims(test_data, axis=3)\n",
        "\n",
        "  # resize images if requested\n",
        "  if resize_to:\n",
        "    if isinstance(resize_to, int):\n",
        "      resize_to = (resize_to, resize_to)\n",
        "    train_data = tf.image.resize(train_data, resize_to)\n",
        "    valid_data = tf.image.resize(valid_data, resize_to)\n",
        "    test_data = tf.image.resize(test_data, resize_to)\n",
        "\n",
        "  # display preprocessed dataset\n",
        "  n_train = train_data.shape[0]\n",
        "  n_valid = valid_data.shape[0]\n",
        "  n_test = test_data.shape[0]\n",
        "  image_shape = train_data.shape\n",
        "  print('\\n')\n",
        "  print('There are {} training samples'.format(n_train))\n",
        "  print('There are {} validation samples'.format(n_valid))\n",
        "  print('There are {} test samples'.format(n_test))\n",
        "  print('Image data shape {}'.format(image_shape))\n",
        "\n",
        "  # comfirm number of classes present in the dataset matches the specified number of classes\n",
        "  assert num_classes == len(\n",
        "      np.unique(train_label)\n",
        "  ), 'Number of classes present in the dataset does not match specified number of classes'\n",
        "\n",
        "  print('There are {} classes'.format(num_classes))\n",
        "\n",
        "  NUM_CLASSES = num_classes\n",
        "\n",
        "  # one-hot encode labels if necessary\n",
        "  if len(train_label.shape) != 2:\n",
        "    train_label = tf.one_hot(train_label, NUM_CLASSES)\n",
        "    valid_label = tf.one_hot(valid_label, NUM_CLASSES)\n",
        "    test_label = tf.one_hot(test_label, NUM_CLASSES)\n",
        "\n",
        "  print('\\nData split:\\n')\n",
        "  print(f'train_data: {train_data.shape}, train_label: {train_label.shape}')\n",
        "  print(f'valid_data: {valid_data.shape}, valid_label: {valid_label.shape}')\n",
        "  print(f'test_data: {test_data.shape}, test_label: {test_label.shape}')\n",
        "\n",
        "  # normalize pixel values to the range\" [0. - 1.0]\n",
        "  train_data = train_data / 255.0\n",
        "  valid_data = valid_data / 255.0\n",
        "  test_data = test_data / 255.0\n",
        "\n",
        "  print('\\nGround truth labels have been one-hot encoded:\\n')\n",
        "  print(np.transpose(train_label[:9]))\n",
        "\n",
        "  return (train_data, train_label), (valid_data, valid_label), (test_data, test_label)"
      ],
      "metadata": {
        "id": "HeRRUBNo7Mjb"
      },
      "execution_count": 54,
      "outputs": []
    },
    {
      "cell_type": "markdown",
      "source": [
        "2.2 Data visualization"
      ],
      "metadata": {
        "id": "Yt8gnaplDLIY"
      }
    },
    {
      "cell_type": "code",
      "source": [
        "from string import whitespace\n",
        "def visualize_samples(X, y):\n",
        "\n",
        "  plt.figure(figsize=(18, 8))\n",
        "  for i in range(8):\n",
        "    plt.subplot(2, 4, i+1)\n",
        "    plt.xticks([])\n",
        "    plt.yticks([])\n",
        "    plt.grid(False)\n",
        "    plt.imshow(X[i], cmap='gray')\n",
        "    plt.xlabel(y[i])\n",
        "    plt.axis('off')\n",
        "\n",
        "  plt.suptitle('Dataset samples',fontsize=18)\n",
        "  plt.subplots_adjust(wspace=0.2, hspace=0.2)\n",
        "  plt.show(block=block_plot)\n",
        "  plt.close()"
      ],
      "metadata": {
        "id": "MTl4axMrDQNo"
      },
      "execution_count": 55,
      "outputs": []
    },
    {
      "cell_type": "code",
      "source": [
        "# download the mnist\n",
        "(train_data, train_label), (test_data, test_label) = get_data()\n",
        "visualize_samples(test_data, test_label)"
      ],
      "metadata": {
        "colab": {
          "base_uri": "https://localhost:8080/",
          "height": 495
        },
        "id": "-eC5KO0xESW_",
        "outputId": "dcd0edc2-d7fc-46c3-b82c-5519295ce0b5"
      },
      "execution_count": 56,
      "outputs": [
        {
          "output_type": "display_data",
          "data": {
            "text/plain": [
              "<Figure size 1296x576 with 8 Axes>"
            ],
            "image/png": "[encoded data removed]"
          },
          "metadata": {}
        }
      ]
    },
    {
      "cell_type": "markdown",
      "source": [
        "2.3 Preprocess the Dataset"
      ],
      "metadata": {
        "id": "Qe-57VMYFa5A"
      }
    },
    {
      "cell_type": "code",
      "source": [
        "@dataclass(frozen=True)\n",
        "class DatasetConfig:\n",
        "  IMG_HEIGHT: int = 32\n",
        "  IMG_WIDTH: int = 32\n",
        "  IMG_CHANNELS: int = 1\n",
        "  NUM_CLASSES: int = 10\n",
        "\n",
        "@dataclass(frozen=True)\n",
        "class TrainingConfig:\n",
        "  BATCH_SIZE: int = 32\n",
        "  EPOCHS: int = 21\n",
        "  LEARNING_RATE: int = 0.01\n",
        "\n",
        "data_config = DatasetConfig()\n",
        "training_config = TrainingConfig()\n",
        "\n",
        "# preprocess the dataset\n",
        "((train_data, train_label),\n",
        " (valid_data, valid_label),\n",
        " (test_data, test_label)) = preprocess_dataset((train_data, train_label), (test_data, test_label),\n",
        "                                               resize_to=(data_config.IMG_HEIGHT, data_config.IMG_WIDTH),\n",
        "                                               num_classes=data_config.NUM_CLASSES,\n",
        "                                               )"
      ],
      "metadata": {
        "colab": {
          "base_uri": "https://localhost:8080/"
        },
        "id": "THYaKvLMFh_j",
        "outputId": "e97d7575-8829-4f78-baea-7ba3b05bf028"
      },
      "execution_count": 57,
      "outputs": [
        {
          "output_type": "stream",
          "name": "stdout",
          "text": [
            "\n",
            "\n",
            "There are 54000 training samples\n",
            "There are 6000 validation samples\n",
            "There are 10000 test samples\n",
            "Image data shape (54000, 32, 32, 1)\n",
            "There are 10 classes\n",
            "\n",
            "Data split:\n",
            "\n",
            "train_data: (54000, 32, 32, 1), train_label: (54000, 10)\n",
            "valid_data: (6000, 32, 32, 1), valid_label: (6000, 10)\n",
            "test_data: (10000, 32, 32, 1), test_label: (10000, 10)\n",
            "\n",
            "Ground truth labels have been one-hot encoded:\n",
            "\n",
            "[[0. 1. 1. 0. 0. 0. 0. 0. 0.]\n",
            " [0. 0. 0. 0. 0. 1. 0. 0. 0.]\n",
            " [0. 0. 0. 0. 1. 0. 0. 0. 0.]\n",
            " [0. 0. 0. 0. 0. 0. 0. 0. 0.]\n",
            " [0. 0. 0. 0. 0. 0. 0. 0. 0.]\n",
            " [1. 0. 0. 1. 0. 0. 0. 0. 0.]\n",
            " [0. 0. 0. 0. 0. 0. 1. 0. 0.]\n",
            " [0. 0. 0. 0. 0. 0. 0. 0. 0.]\n",
            " [0. 0. 0. 0. 0. 0. 0. 0. 0.]\n",
            " [0. 0. 0. 0. 0. 0. 0. 1. 1.]]\n"
          ]
        }
      ]
    },
    {
      "cell_type": "markdown",
      "source": [
        "<h1>3 Modeling the LeNet5 Architecture"
      ],
      "metadata": {
        "id": "rfl1hcxbKE_A"
      }
    },
    {
      "cell_type": "code",
      "source": [
        "from tensorflow.keras import Model\n",
        "from tensorflow.keras.layers import Activation, Conv2D, Dense, Flatten, Input, MaxPool2D"
      ],
      "metadata": {
        "id": "koPMr70fKc_j"
      },
      "execution_count": 58,
      "outputs": []
    },
    {
      "cell_type": "code",
      "source": [
        "def LeNet5_model(input_shape=(32, 32, 1), num_classes=10, print_summary=True):\n",
        "  \n",
        "  inputs = Input(shape=input_shape)\n",
        "\n",
        "  # BODY (feature extractor)\n",
        "  x = Conv2D(6, 5, padding='valid')(inputs)                                     # input_size = (32,32), output size = (28,28)\n",
        "  x = Activation('relu')(x)                                                     # output size = (28, 28)\n",
        "  x = MaxPool2D()(x)                                                            # outpyt size = (14, 14)\n",
        "  \n",
        "  x = Conv2D(16, 5, padding='valid')(x)                                         # input size = (14,14), output size = (10,10)\n",
        "  x = Activation('relu')(x)                                                     # input size = (10,10)\n",
        "  feature_extractor_output = MaxPool2D()(x)                                     #output size = (5,5)\n",
        "\n",
        "  # flatten\n",
        "  flattened = Flatten()(feature_extractor_output)                               # 5*5*16 -> 400   \n",
        "\n",
        "  # HEAD\n",
        "  x = Dense(120, activation='relu')(flattened)                                  # 400 -> 120\n",
        "  x = Dense(84, activation='relu')(x)                                           # 120 -> 84\n",
        "\n",
        "  # Softmax output layer\n",
        "  headout = Dense(num_classes, activation='softmax')(x)                         # 84 -> 10\n",
        "\n",
        "  # create model\n",
        "  model = Model(inputs=inputs, outputs=headout, name='LeNet5')\n",
        "\n",
        "  if print_summary:\n",
        "    model.summary()\n",
        "  \n",
        "  return model\n",
        "\n"
      ],
      "metadata": {
        "id": "1elleS6MLGuu"
      },
      "execution_count": 59,
      "outputs": []
    },
    {
      "cell_type": "markdown",
      "source": [
        "<h1>4 Training Pipeline"
      ],
      "metadata": {
        "id": "l61OR0AgPSrR"
      }
    },
    {
      "cell_type": "code",
      "source": [
        "def train_model(train_set, print_model_summary=False):\n",
        "\n",
        "  (train_data, train_label) = train_set\n",
        "\n",
        "  # initialize the leNet model\n",
        "  model = LeNet5_model(input_shape=(data_config.IMG_HEIGHT, data_config.IMG_WIDTH, data_config.IMG_CHANNELS),\n",
        "                       num_classes=data_config.NUM_CLASSES,\n",
        "                       print_summary=print_model_summary,\n",
        "                       )\n",
        "  \n",
        "  # compile the model\n",
        "  model.compile(optimizer=tf.keras.optimizers.SGD(learning_rate=training_config.LEARNING_RATE),\n",
        "                loss=tf.keras.losses.CategoricalCrossentropy(from_logits=False),\n",
        "                metrics=['accuracy'],\n",
        "                )\n",
        "  \n",
        "  print('\\n\\n')\n",
        "  # train the model\n",
        "  results = model.fit(train_data,\n",
        "                      train_label,\n",
        "                      epochs=training_config.EPOCHS,\n",
        "                      batch_size=training_config.BATCH_SIZE,\n",
        "                      validation_data=(valid_data, valid_label),\n",
        "                      )\n",
        "  \n",
        "  return model, results"
      ],
      "metadata": {
        "id": "sEsmM6HWP3Ty"
      },
      "execution_count": 60,
      "outputs": []
    },
    {
      "cell_type": "markdown",
      "source": [
        "<h1>5 Training Execution"
      ],
      "metadata": {
        "id": "Jwi2J3uASUBH"
      }
    },
    {
      "cell_type": "code",
      "source": [
        "model, training_results = train_model(train_set=(train_data, train_label), print_model_summary=True)"
      ],
      "metadata": {
        "colab": {
          "base_uri": "https://localhost:8080/"
        },
        "id": "tWK4HcW7SZz3",
        "outputId": "71af9756-76eb-40c6-a58f-367dca33a87b"
      },
      "execution_count": 61,
      "outputs": [
        {
          "output_type": "stream",
          "name": "stdout",
          "text": [
            "Model: \"LeNet5\"\n",
            "_________________________________________________________________\n",
            " Layer (type)                Output Shape              Param #   \n",
            "=================================================================\n",
            " input_2 (InputLayer)        [(None, 32, 32, 1)]       0         \n",
            "                                                                 \n",
            " conv2d_2 (Conv2D)           (None, 28, 28, 6)         156       \n",
            "                                                                 \n",
            " activation_2 (Activation)   (None, 28, 28, 6)         0         \n",
            "                                                                 \n",
            " max_pooling2d_2 (MaxPooling  (None, 14, 14, 6)        0         \n",
            " 2D)                                                             \n",
            "                                                                 \n",
            " conv2d_3 (Conv2D)           (None, 10, 10, 16)        2416      \n",
            "                                                                 \n",
            " activation_3 (Activation)   (None, 10, 10, 16)        0         \n",
            "                                                                 \n",
            " max_pooling2d_3 (MaxPooling  (None, 5, 5, 16)         0         \n",
            " 2D)                                                             \n",
            "                                                                 \n",
            " flatten_1 (Flatten)         (None, 400)               0         \n",
            "                                                                 \n",
            " dense_3 (Dense)             (None, 120)               48120     \n",
            "                                                                 \n",
            " dense_4 (Dense)             (None, 84)                10164     \n",
            "                                                                 \n",
            " dense_5 (Dense)             (None, 10)                850       \n",
            "                                                                 \n",
            "=================================================================\n",
            "Total params: 61,706\n",
            "Trainable params: 61,706\n",
            "Non-trainable params: 0\n",
            "_________________________________________________________________\n",
            "\n",
            "\n",
            "\n",
            "Epoch 1/21\n",
            "1688/1688 [==============================] - 10s 6ms/step - loss: 0.6077 - accuracy: 0.8076 - val_loss: 0.1714 - val_accuracy: 0.9522\n",
            "Epoch 2/21\n",
            "1688/1688 [==============================] - 9s 6ms/step - loss: 0.1321 - accuracy: 0.9601 - val_loss: 0.1010 - val_accuracy: 0.9717\n",
            "Epoch 3/21\n",
            "1688/1688 [==============================] - 8s 5ms/step - loss: 0.0944 - accuracy: 0.9715 - val_loss: 0.0906 - val_accuracy: 0.9708\n",
            "Epoch 4/21\n",
            "1688/1688 [==============================] - 9s 5ms/step - loss: 0.0760 - accuracy: 0.9763 - val_loss: 0.0745 - val_accuracy: 0.9768\n",
            "Epoch 5/21\n",
            "1688/1688 [==============================] - 9s 5ms/step - loss: 0.0651 - accuracy: 0.9799 - val_loss: 0.0667 - val_accuracy: 0.9792\n",
            "Epoch 6/21\n",
            "1688/1688 [==============================] - 8s 5ms/step - loss: 0.0557 - accuracy: 0.9827 - val_loss: 0.0600 - val_accuracy: 0.9825\n",
            "Epoch 7/21\n",
            "1688/1688 [==============================] - 9s 5ms/step - loss: 0.0508 - accuracy: 0.9839 - val_loss: 0.0619 - val_accuracy: 0.9815\n",
            "Epoch 8/21\n",
            "1688/1688 [==============================] - 9s 5ms/step - loss: 0.0456 - accuracy: 0.9859 - val_loss: 0.0479 - val_accuracy: 0.9850\n",
            "Epoch 9/21\n",
            "1688/1688 [==============================] - 9s 5ms/step - loss: 0.0415 - accuracy: 0.9863 - val_loss: 0.0473 - val_accuracy: 0.9855\n",
            "Epoch 10/21\n",
            "1688/1688 [==============================] - 8s 5ms/step - loss: 0.0378 - accuracy: 0.9883 - val_loss: 0.0523 - val_accuracy: 0.9838\n",
            "Epoch 11/21\n",
            "1688/1688 [==============================] - 9s 5ms/step - loss: 0.0351 - accuracy: 0.9886 - val_loss: 0.0455 - val_accuracy: 0.9855\n",
            "Epoch 12/21\n",
            "1688/1688 [==============================] - 9s 5ms/step - loss: 0.0314 - accuracy: 0.9898 - val_loss: 0.0447 - val_accuracy: 0.9857\n",
            "Epoch 13/21\n",
            "1688/1688 [==============================] - 8s 5ms/step - loss: 0.0298 - accuracy: 0.9904 - val_loss: 0.0491 - val_accuracy: 0.9853\n",
            "Epoch 14/21\n",
            "1688/1688 [==============================] - 9s 5ms/step - loss: 0.0267 - accuracy: 0.9913 - val_loss: 0.0570 - val_accuracy: 0.9832\n",
            "Epoch 15/21\n",
            "1688/1688 [==============================] - 9s 5ms/step - loss: 0.0254 - accuracy: 0.9919 - val_loss: 0.0480 - val_accuracy: 0.9862\n",
            "Epoch 16/21\n",
            "1688/1688 [==============================] - 9s 5ms/step - loss: 0.0233 - accuracy: 0.9928 - val_loss: 0.0417 - val_accuracy: 0.9873\n",
            "Epoch 17/21\n",
            "1688/1688 [==============================] - 8s 5ms/step - loss: 0.0215 - accuracy: 0.9933 - val_loss: 0.0499 - val_accuracy: 0.9848\n",
            "Epoch 18/21\n",
            "1688/1688 [==============================] - 9s 5ms/step - loss: 0.0193 - accuracy: 0.9940 - val_loss: 0.0459 - val_accuracy: 0.9858\n",
            "Epoch 19/21\n",
            "1688/1688 [==============================] - 9s 5ms/step - loss: 0.0184 - accuracy: 0.9941 - val_loss: 0.0434 - val_accuracy: 0.9878\n",
            "Epoch 20/21\n",
            "1688/1688 [==============================] - 9s 5ms/step - loss: 0.0170 - accuracy: 0.9946 - val_loss: 0.0521 - val_accuracy: 0.9865\n",
            "Epoch 21/21\n",
            "1688/1688 [==============================] - 8s 5ms/step - loss: 0.0160 - accuracy: 0.9951 - val_loss: 0.0469 - val_accuracy: 0.9875\n"
          ]
        }
      ]
    },
    {
      "cell_type": "markdown",
      "source": [
        "5.1 Plot Training Result"
      ],
      "metadata": {
        "id": "OIowMSBhTty_"
      }
    },
    {
      "cell_type": "code",
      "source": [
        "from matplotlib.ticker import (MultipleLocator, FormatStrFormatter)\n",
        "\n",
        "def plot_result(metrics, ylabel=None, ylim=None, metric_name=None, color=None):\n",
        "\n",
        "  fig, ax = plt.subplots(figsize=(15, 4))\n",
        "\n",
        "  if not (isinstance(metric_name, list) or isinstance(metric_name, tuple)):\n",
        "    metrics = [metrics, ]\n",
        "    metric_name = [metric_name]\n",
        "\n",
        "  for idx, metric in enumerate(metrics):\n",
        "    ax.plot(metric, color=color[idx])\n",
        "\n",
        "  plt.xlabel('Epoch')\n",
        "  plt.ylabel('ylabel')\n",
        "  plt.title(ylabel)\n",
        "  plt.xlim([0, training_config.EPOCHS-1])\n",
        "  plt.ylim(ylim)\n",
        "  \n",
        "  # tailor xaxis tick mark\n",
        "  ax.xaxis.set_major_locator(MultipleLocator(5))\n",
        "  ax.xaxis.set_major_formatter(FormatStrFormatter('%d'))\n",
        "  ax.xaxis.set_minor_locator(MultipleLocator(1))\n",
        "\n",
        "  plt.grid(True)\n",
        "  plt.legend(metric_name)\n",
        "  plt.show()\n",
        "  plt.close()"
      ],
      "metadata": {
        "id": "DtYz-XL6TxnP"
      },
      "execution_count": 62,
      "outputs": []
    },
    {
      "cell_type": "code",
      "source": [
        "# print history dictionary keys\n",
        "print(training_results.history.keys())\n",
        "\n",
        "# retrieve training results\n",
        "train_loss = training_results.history['loss']\n",
        "train_acc = training_results.history['accuracy']\n",
        "valid_loss = training_results.history['val_loss']\n",
        "valid_acc = training_results.history['val_accuracy']\n",
        "\n",
        "plot_result([train_acc, valid_acc],\n",
        "            ylabel='Accuracy',\n",
        "            ylim=[0.5, 1.0],\n",
        "            metric_name=['Training Accuray', 'Validation Accuracy'],\n",
        "            color=['g', 'b'])\n",
        "\n",
        "max_loss = max(max(train_loss), max(valid_loss))\n",
        "\n",
        "plot_result([train_loss, valid_loss], \n",
        "            ylabel='Loss',\n",
        "            ylim=[0.0, max_loss],\n",
        "            metric_name=['Training Loss', 'Validation Loss'],\n",
        "            color=['g', 'b']);"
      ],
      "metadata": {
        "colab": {
          "base_uri": "https://localhost:8080/",
          "height": 591
        },
        "id": "xU8DBh3qWtaS",
        "outputId": "939bd848-52c1-4234-e264-c93733796d21"
      },
      "execution_count": 63,
      "outputs": [
        {
          "output_type": "stream",
          "name": "stdout",
          "text": [
            "dict_keys(['loss', 'accuracy', 'val_loss', 'val_accuracy'])\n"
          ]
        },
        {
          "output_type": "display_data",
          "data": {
            "text/plain": [
              "<Figure size 1080x288 with 1 Axes>"
            ],
            "image/png": "[encoded data removed]"
          },
          "metadata": {
            "needs_background": "light"
          }
        },
        {
          "output_type": "display_data",
          "data": {
            "text/plain": [
              "<Figure size 1080x288 with 1 Axes>"
            ],
            "image/png": "[encoded data removed]"
          },
          "metadata": {
            "needs_background": "light"
          }
        }
      ]
    },
    {
      "cell_type": "markdown",
      "source": [
        "<h1>6 Model Evaluation"
      ],
      "metadata": {
        "id": "A1S6IZD2ZK-U"
      }
    },
    {
      "cell_type": "code",
      "source": [
        "def evaluate_model(model, *test_set):\n",
        "  \n",
        "  test_data, test_label = test_set\n",
        "\n",
        "  # evaluate model performance on the test set\n",
        "  test_result = model.evaluate(test_data, test_label)\n",
        "\n",
        "  # select 20 random points from the test set for display\n",
        "  random.seed(SEED_VALUE)\n",
        "  num_rows = 4\n",
        "  num_cols = 5\n",
        "  num_data = num_rows*num_cols\n",
        "  shuffled_index = random.sample(range(test_label.shape[0]), num_data)\n",
        "\n",
        "  data_sampled = tf.gather(test_data, shuffled_index)\n",
        "  label_sampled = tf.gather(test_label, shuffled_index)\n",
        "\n",
        "  # generate predictions on the samples test set\n",
        "  label_pred_sampled = model.predict(data_sampled)\n",
        "\n",
        "  num_matches = 0\n",
        "\n",
        "  # plot the test images and predicted labels\n",
        "  plt.figure(figsize=(18, 12))\n",
        "  for i in range(num_data):\n",
        "    plt.subplot(num_rows, num_cols, i+1)\n",
        "    pred = np.argmax(label_pred_sampled[i])\n",
        "    truth = np.argmax(label_sampled[i])\n",
        "    title = 'True: ' + str(truth) + '; Pred: ' + str(pred)\n",
        "    title_obj = plt.title(title, fontdict={'fontsize': 16})\n",
        "\n",
        "    if pred == truth:\n",
        "      num_matches += 1\n",
        "      plt.setp(title_obj, color='g')\n",
        "    else:\n",
        "      plt.setp(title_obj, color='r')\n",
        "    plt.axis('off')\n",
        "    plt.imshow(data_sampled[i].numpy().squeeze(), cmap ='gray')\n",
        "\n",
        "  plt.subplots_adjust(wspace=0.2, hspace=0.2)\n",
        "  plt.show(block=block_plot) \n",
        "\n",
        "  return test_result"
      ],
      "metadata": {
        "id": "E6Oh7S0uZOs7"
      },
      "execution_count": 66,
      "outputs": []
    },
    {
      "cell_type": "code",
      "source": [
        "test_set = (test_data, test_label)\n",
        "test_result = evaluate_model(model, *test_set)"
      ],
      "metadata": {
        "colab": {
          "base_uri": "https://localhost:8080/",
          "height": 707
        },
        "id": "rlPDxnXAc-Oi",
        "outputId": "f755b065-3d51-49d8-fdd7-303e81dd435a"
      },
      "execution_count": 67,
      "outputs": [
        {
          "output_type": "stream",
          "name": "stdout",
          "text": [
            "313/313 [==============================] - 1s 3ms/step - loss: 0.0391 - accuracy: 0.9871\n",
            "1/1 [==============================] - 0s 22ms/step\n"
          ]
        },
        {
          "output_type": "display_data",
          "data": {
            "text/plain": [
              "<Figure size 1296x864 with 20 Axes>"
            ],
            "image/png": "[encoded data removed]"
          },
          "metadata": {
            "needs_background": "light"
          }
        }
      ]
    }
  ]
}